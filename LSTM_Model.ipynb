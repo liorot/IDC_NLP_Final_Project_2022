{
  "nbformat": 4,
  "nbformat_minor": 0,
  "metadata": {
    "colab": {
      "name": "LSTM_Model.ipynb",
      "provenance": [],
      "collapsed_sections": [],
      "toc_visible": true,
      "machine_shape": "hm",
      "authorship_tag": "ABX9TyOh1ffWXQvBSeOJJoKuc/YZ",
      "include_colab_link": true
    },
    "kernelspec": {
      "name": "python3",
      "display_name": "Python 3"
    },
    "language_info": {
      "name": "python"
    },
    "gpuClass": "standard",
    "accelerator": "GPU",
    "widgets": {
      "application/vnd.jupyter.widget-state+json": {
        "b2c05e9eb4f3446c9d21aa2d04028e34": {
          "model_module": "@jupyter-widgets/controls",
          "model_name": "HBoxModel",
          "model_module_version": "1.5.0",
          "state": {
            "_dom_classes": [],
            "_model_module": "@jupyter-widgets/controls",
            "_model_module_version": "1.5.0",
            "_model_name": "HBoxModel",
            "_view_count": null,
            "_view_module": "@jupyter-widgets/controls",
            "_view_module_version": "1.5.0",
            "_view_name": "HBoxView",
            "box_style": "",
            "children": [
              "IPY_MODEL_6460fe15d53f44fa90a4e278a66c3b9f",
              "IPY_MODEL_d9122819285d4bcfa0ed226515cd231f",
              "IPY_MODEL_2ca473dc8f6546f7968255df1982f3b4"
            ],
            "layout": "IPY_MODEL_a3106445d1c0482db5435cf0dcbe53cf"
          }
        },
        "6460fe15d53f44fa90a4e278a66c3b9f": {
          "model_module": "@jupyter-widgets/controls",
          "model_name": "HTMLModel",
          "model_module_version": "1.5.0",
          "state": {
            "_dom_classes": [],
            "_model_module": "@jupyter-widgets/controls",
            "_model_module_version": "1.5.0",
            "_model_name": "HTMLModel",
            "_view_count": null,
            "_view_module": "@jupyter-widgets/controls",
            "_view_module_version": "1.5.0",
            "_view_name": "HTMLView",
            "description": "",
            "description_tooltip": null,
            "layout": "IPY_MODEL_51de879b07644321abeec9534f6bf0c0",
            "placeholder": "​",
            "style": "IPY_MODEL_58086cebd5f840b194a2bd19d3b7c24c",
            "value": "100%"
          }
        },
        "d9122819285d4bcfa0ed226515cd231f": {
          "model_module": "@jupyter-widgets/controls",
          "model_name": "FloatProgressModel",
          "model_module_version": "1.5.0",
          "state": {
            "_dom_classes": [],
            "_model_module": "@jupyter-widgets/controls",
            "_model_module_version": "1.5.0",
            "_model_name": "FloatProgressModel",
            "_view_count": null,
            "_view_module": "@jupyter-widgets/controls",
            "_view_module_version": "1.5.0",
            "_view_name": "ProgressView",
            "bar_style": "success",
            "description": "",
            "description_tooltip": null,
            "layout": "IPY_MODEL_3f0d3f0956c54ce098200e5725eb53b3",
            "max": 693,
            "min": 0,
            "orientation": "horizontal",
            "style": "IPY_MODEL_2b95bac8cf3346f1b577ae32dbdc1393",
            "value": 693
          }
        },
        "2ca473dc8f6546f7968255df1982f3b4": {
          "model_module": "@jupyter-widgets/controls",
          "model_name": "HTMLModel",
          "model_module_version": "1.5.0",
          "state": {
            "_dom_classes": [],
            "_model_module": "@jupyter-widgets/controls",
            "_model_module_version": "1.5.0",
            "_model_name": "HTMLModel",
            "_view_count": null,
            "_view_module": "@jupyter-widgets/controls",
            "_view_module_version": "1.5.0",
            "_view_name": "HTMLView",
            "description": "",
            "description_tooltip": null,
            "layout": "IPY_MODEL_35bea6183f4041939cc027e3dca1719a",
            "placeholder": "​",
            "style": "IPY_MODEL_cbb10524bbf3439995e907f25fc8ff62",
            "value": " 693/693 [00:22&lt;00:00, 31.30it/s]"
          }
        },
        "a3106445d1c0482db5435cf0dcbe53cf": {
          "model_module": "@jupyter-widgets/base",
          "model_name": "LayoutModel",
          "model_module_version": "1.2.0",
          "state": {
            "_model_module": "@jupyter-widgets/base",
            "_model_module_version": "1.2.0",
            "_model_name": "LayoutModel",
            "_view_count": null,
            "_view_module": "@jupyter-widgets/base",
            "_view_module_version": "1.2.0",
            "_view_name": "LayoutView",
            "align_content": null,
            "align_items": null,
            "align_self": null,
            "border": null,
            "bottom": null,
            "display": null,
            "flex": null,
            "flex_flow": null,
            "grid_area": null,
            "grid_auto_columns": null,
            "grid_auto_flow": null,
            "grid_auto_rows": null,
            "grid_column": null,
            "grid_gap": null,
            "grid_row": null,
            "grid_template_areas": null,
            "grid_template_columns": null,
            "grid_template_rows": null,
            "height": null,
            "justify_content": null,
            "justify_items": null,
            "left": null,
            "margin": null,
            "max_height": null,
            "max_width": null,
            "min_height": null,
            "min_width": null,
            "object_fit": null,
            "object_position": null,
            "order": null,
            "overflow": null,
            "overflow_x": null,
            "overflow_y": null,
            "padding": null,
            "right": null,
            "top": null,
            "visibility": null,
            "width": null
          }
        },
        "51de879b07644321abeec9534f6bf0c0": {
          "model_module": "@jupyter-widgets/base",
          "model_name": "LayoutModel",
          "model_module_version": "1.2.0",
          "state": {
            "_model_module": "@jupyter-widgets/base",
            "_model_module_version": "1.2.0",
            "_model_name": "LayoutModel",
            "_view_count": null,
            "_view_module": "@jupyter-widgets/base",
            "_view_module_version": "1.2.0",
            "_view_name": "LayoutView",
            "align_content": null,
            "align_items": null,
            "align_self": null,
            "border": null,
            "bottom": null,
            "display": null,
            "flex": null,
            "flex_flow": null,
            "grid_area": null,
            "grid_auto_columns": null,
            "grid_auto_flow": null,
            "grid_auto_rows": null,
            "grid_column": null,
            "grid_gap": null,
            "grid_row": null,
            "grid_template_areas": null,
            "grid_template_columns": null,
            "grid_template_rows": null,
            "height": null,
            "justify_content": null,
            "justify_items": null,
            "left": null,
            "margin": null,
            "max_height": null,
            "max_width": null,
            "min_height": null,
            "min_width": null,
            "object_fit": null,
            "object_position": null,
            "order": null,
            "overflow": null,
            "overflow_x": null,
            "overflow_y": null,
            "padding": null,
            "right": null,
            "top": null,
            "visibility": null,
            "width": null
          }
        },
        "58086cebd5f840b194a2bd19d3b7c24c": {
          "model_module": "@jupyter-widgets/controls",
          "model_name": "DescriptionStyleModel",
          "model_module_version": "1.5.0",
          "state": {
            "_model_module": "@jupyter-widgets/controls",
            "_model_module_version": "1.5.0",
            "_model_name": "DescriptionStyleModel",
            "_view_count": null,
            "_view_module": "@jupyter-widgets/base",
            "_view_module_version": "1.2.0",
            "_view_name": "StyleView",
            "description_width": ""
          }
        },
        "3f0d3f0956c54ce098200e5725eb53b3": {
          "model_module": "@jupyter-widgets/base",
          "model_name": "LayoutModel",
          "model_module_version": "1.2.0",
          "state": {
            "_model_module": "@jupyter-widgets/base",
            "_model_module_version": "1.2.0",
            "_model_name": "LayoutModel",
            "_view_count": null,
            "_view_module": "@jupyter-widgets/base",
            "_view_module_version": "1.2.0",
            "_view_name": "LayoutView",
            "align_content": null,
            "align_items": null,
            "align_self": null,
            "border": null,
            "bottom": null,
            "display": null,
            "flex": null,
            "flex_flow": null,
            "grid_area": null,
            "grid_auto_columns": null,
            "grid_auto_flow": null,
            "grid_auto_rows": null,
            "grid_column": null,
            "grid_gap": null,
            "grid_row": null,
            "grid_template_areas": null,
            "grid_template_columns": null,
            "grid_template_rows": null,
            "height": null,
            "justify_content": null,
            "justify_items": null,
            "left": null,
            "margin": null,
            "max_height": null,
            "max_width": null,
            "min_height": null,
            "min_width": null,
            "object_fit": null,
            "object_position": null,
            "order": null,
            "overflow": null,
            "overflow_x": null,
            "overflow_y": null,
            "padding": null,
            "right": null,
            "top": null,
            "visibility": null,
            "width": null
          }
        },
        "2b95bac8cf3346f1b577ae32dbdc1393": {
          "model_module": "@jupyter-widgets/controls",
          "model_name": "ProgressStyleModel",
          "model_module_version": "1.5.0",
          "state": {
            "_model_module": "@jupyter-widgets/controls",
            "_model_module_version": "1.5.0",
            "_model_name": "ProgressStyleModel",
            "_view_count": null,
            "_view_module": "@jupyter-widgets/base",
            "_view_module_version": "1.2.0",
            "_view_name": "StyleView",
            "bar_color": null,
            "description_width": ""
          }
        },
        "35bea6183f4041939cc027e3dca1719a": {
          "model_module": "@jupyter-widgets/base",
          "model_name": "LayoutModel",
          "model_module_version": "1.2.0",
          "state": {
            "_model_module": "@jupyter-widgets/base",
            "_model_module_version": "1.2.0",
            "_model_name": "LayoutModel",
            "_view_count": null,
            "_view_module": "@jupyter-widgets/base",
            "_view_module_version": "1.2.0",
            "_view_name": "LayoutView",
            "align_content": null,
            "align_items": null,
            "align_self": null,
            "border": null,
            "bottom": null,
            "display": null,
            "flex": null,
            "flex_flow": null,
            "grid_area": null,
            "grid_auto_columns": null,
            "grid_auto_flow": null,
            "grid_auto_rows": null,
            "grid_column": null,
            "grid_gap": null,
            "grid_row": null,
            "grid_template_areas": null,
            "grid_template_columns": null,
            "grid_template_rows": null,
            "height": null,
            "justify_content": null,
            "justify_items": null,
            "left": null,
            "margin": null,
            "max_height": null,
            "max_width": null,
            "min_height": null,
            "min_width": null,
            "object_fit": null,
            "object_position": null,
            "order": null,
            "overflow": null,
            "overflow_x": null,
            "overflow_y": null,
            "padding": null,
            "right": null,
            "top": null,
            "visibility": null,
            "width": null
          }
        },
        "cbb10524bbf3439995e907f25fc8ff62": {
          "model_module": "@jupyter-widgets/controls",
          "model_name": "DescriptionStyleModel",
          "model_module_version": "1.5.0",
          "state": {
            "_model_module": "@jupyter-widgets/controls",
            "_model_module_version": "1.5.0",
            "_model_name": "DescriptionStyleModel",
            "_view_count": null,
            "_view_module": "@jupyter-widgets/base",
            "_view_module_version": "1.2.0",
            "_view_name": "StyleView",
            "description_width": ""
          }
        },
        "741dd0f09f364b7fb66e905486fa1958": {
          "model_module": "@jupyter-widgets/controls",
          "model_name": "HBoxModel",
          "model_module_version": "1.5.0",
          "state": {
            "_dom_classes": [],
            "_model_module": "@jupyter-widgets/controls",
            "_model_module_version": "1.5.0",
            "_model_name": "HBoxModel",
            "_view_count": null,
            "_view_module": "@jupyter-widgets/controls",
            "_view_module_version": "1.5.0",
            "_view_name": "HBoxView",
            "box_style": "",
            "children": [
              "IPY_MODEL_1f5a43a01fb440ffac6de4f46808ff25",
              "IPY_MODEL_c193a8ce6b12450b80f2d22736824185",
              "IPY_MODEL_c7bbdab985464a349bcb38085921f861"
            ],
            "layout": "IPY_MODEL_e69263aae93a4ae8bd4e6f2ef3c60838"
          }
        },
        "1f5a43a01fb440ffac6de4f46808ff25": {
          "model_module": "@jupyter-widgets/controls",
          "model_name": "HTMLModel",
          "model_module_version": "1.5.0",
          "state": {
            "_dom_classes": [],
            "_model_module": "@jupyter-widgets/controls",
            "_model_module_version": "1.5.0",
            "_model_name": "HTMLModel",
            "_view_count": null,
            "_view_module": "@jupyter-widgets/controls",
            "_view_module_version": "1.5.0",
            "_view_name": "HTMLView",
            "description": "",
            "description_tooltip": null,
            "layout": "IPY_MODEL_828e5128bfdb458290a8422a4804210b",
            "placeholder": "​",
            "style": "IPY_MODEL_107b9fba1fa3473bb0cfc29dff6c5786",
            "value": "100%"
          }
        },
        "c193a8ce6b12450b80f2d22736824185": {
          "model_module": "@jupyter-widgets/controls",
          "model_name": "FloatProgressModel",
          "model_module_version": "1.5.0",
          "state": {
            "_dom_classes": [],
            "_model_module": "@jupyter-widgets/controls",
            "_model_module_version": "1.5.0",
            "_model_name": "FloatProgressModel",
            "_view_count": null,
            "_view_module": "@jupyter-widgets/controls",
            "_view_module_version": "1.5.0",
            "_view_name": "ProgressView",
            "bar_style": "success",
            "description": "",
            "description_tooltip": null,
            "layout": "IPY_MODEL_3c74b25156f94a3084c60684547d9d2e",
            "max": 1735,
            "min": 0,
            "orientation": "horizontal",
            "style": "IPY_MODEL_11b95e66f279436fa6c22d63de21a5cd",
            "value": 1735
          }
        },
        "c7bbdab985464a349bcb38085921f861": {
          "model_module": "@jupyter-widgets/controls",
          "model_name": "HTMLModel",
          "model_module_version": "1.5.0",
          "state": {
            "_dom_classes": [],
            "_model_module": "@jupyter-widgets/controls",
            "_model_module_version": "1.5.0",
            "_model_name": "HTMLModel",
            "_view_count": null,
            "_view_module": "@jupyter-widgets/controls",
            "_view_module_version": "1.5.0",
            "_view_name": "HTMLView",
            "description": "",
            "description_tooltip": null,
            "layout": "IPY_MODEL_79088bede44e492f8990f0f89464d873",
            "placeholder": "​",
            "style": "IPY_MODEL_d7a42a3a633e411bb381260ac902bf38",
            "value": " 1735/1735 [00:55&lt;00:00, 31.41it/s]"
          }
        },
        "e69263aae93a4ae8bd4e6f2ef3c60838": {
          "model_module": "@jupyter-widgets/base",
          "model_name": "LayoutModel",
          "model_module_version": "1.2.0",
          "state": {
            "_model_module": "@jupyter-widgets/base",
            "_model_module_version": "1.2.0",
            "_model_name": "LayoutModel",
            "_view_count": null,
            "_view_module": "@jupyter-widgets/base",
            "_view_module_version": "1.2.0",
            "_view_name": "LayoutView",
            "align_content": null,
            "align_items": null,
            "align_self": null,
            "border": null,
            "bottom": null,
            "display": null,
            "flex": null,
            "flex_flow": null,
            "grid_area": null,
            "grid_auto_columns": null,
            "grid_auto_flow": null,
            "grid_auto_rows": null,
            "grid_column": null,
            "grid_gap": null,
            "grid_row": null,
            "grid_template_areas": null,
            "grid_template_columns": null,
            "grid_template_rows": null,
            "height": null,
            "justify_content": null,
            "justify_items": null,
            "left": null,
            "margin": null,
            "max_height": null,
            "max_width": null,
            "min_height": null,
            "min_width": null,
            "object_fit": null,
            "object_position": null,
            "order": null,
            "overflow": null,
            "overflow_x": null,
            "overflow_y": null,
            "padding": null,
            "right": null,
            "top": null,
            "visibility": null,
            "width": null
          }
        },
        "828e5128bfdb458290a8422a4804210b": {
          "model_module": "@jupyter-widgets/base",
          "model_name": "LayoutModel",
          "model_module_version": "1.2.0",
          "state": {
            "_model_module": "@jupyter-widgets/base",
            "_model_module_version": "1.2.0",
            "_model_name": "LayoutModel",
            "_view_count": null,
            "_view_module": "@jupyter-widgets/base",
            "_view_module_version": "1.2.0",
            "_view_name": "LayoutView",
            "align_content": null,
            "align_items": null,
            "align_self": null,
            "border": null,
            "bottom": null,
            "display": null,
            "flex": null,
            "flex_flow": null,
            "grid_area": null,
            "grid_auto_columns": null,
            "grid_auto_flow": null,
            "grid_auto_rows": null,
            "grid_column": null,
            "grid_gap": null,
            "grid_row": null,
            "grid_template_areas": null,
            "grid_template_columns": null,
            "grid_template_rows": null,
            "height": null,
            "justify_content": null,
            "justify_items": null,
            "left": null,
            "margin": null,
            "max_height": null,
            "max_width": null,
            "min_height": null,
            "min_width": null,
            "object_fit": null,
            "object_position": null,
            "order": null,
            "overflow": null,
            "overflow_x": null,
            "overflow_y": null,
            "padding": null,
            "right": null,
            "top": null,
            "visibility": null,
            "width": null
          }
        },
        "107b9fba1fa3473bb0cfc29dff6c5786": {
          "model_module": "@jupyter-widgets/controls",
          "model_name": "DescriptionStyleModel",
          "model_module_version": "1.5.0",
          "state": {
            "_model_module": "@jupyter-widgets/controls",
            "_model_module_version": "1.5.0",
            "_model_name": "DescriptionStyleModel",
            "_view_count": null,
            "_view_module": "@jupyter-widgets/base",
            "_view_module_version": "1.2.0",
            "_view_name": "StyleView",
            "description_width": ""
          }
        },
        "3c74b25156f94a3084c60684547d9d2e": {
          "model_module": "@jupyter-widgets/base",
          "model_name": "LayoutModel",
          "model_module_version": "1.2.0",
          "state": {
            "_model_module": "@jupyter-widgets/base",
            "_model_module_version": "1.2.0",
            "_model_name": "LayoutModel",
            "_view_count": null,
            "_view_module": "@jupyter-widgets/base",
            "_view_module_version": "1.2.0",
            "_view_name": "LayoutView",
            "align_content": null,
            "align_items": null,
            "align_self": null,
            "border": null,
            "bottom": null,
            "display": null,
            "flex": null,
            "flex_flow": null,
            "grid_area": null,
            "grid_auto_columns": null,
            "grid_auto_flow": null,
            "grid_auto_rows": null,
            "grid_column": null,
            "grid_gap": null,
            "grid_row": null,
            "grid_template_areas": null,
            "grid_template_columns": null,
            "grid_template_rows": null,
            "height": null,
            "justify_content": null,
            "justify_items": null,
            "left": null,
            "margin": null,
            "max_height": null,
            "max_width": null,
            "min_height": null,
            "min_width": null,
            "object_fit": null,
            "object_position": null,
            "order": null,
            "overflow": null,
            "overflow_x": null,
            "overflow_y": null,
            "padding": null,
            "right": null,
            "top": null,
            "visibility": null,
            "width": null
          }
        },
        "11b95e66f279436fa6c22d63de21a5cd": {
          "model_module": "@jupyter-widgets/controls",
          "model_name": "ProgressStyleModel",
          "model_module_version": "1.5.0",
          "state": {
            "_model_module": "@jupyter-widgets/controls",
            "_model_module_version": "1.5.0",
            "_model_name": "ProgressStyleModel",
            "_view_count": null,
            "_view_module": "@jupyter-widgets/base",
            "_view_module_version": "1.2.0",
            "_view_name": "StyleView",
            "bar_color": null,
            "description_width": ""
          }
        },
        "79088bede44e492f8990f0f89464d873": {
          "model_module": "@jupyter-widgets/base",
          "model_name": "LayoutModel",
          "model_module_version": "1.2.0",
          "state": {
            "_model_module": "@jupyter-widgets/base",
            "_model_module_version": "1.2.0",
            "_model_name": "LayoutModel",
            "_view_count": null,
            "_view_module": "@jupyter-widgets/base",
            "_view_module_version": "1.2.0",
            "_view_name": "LayoutView",
            "align_content": null,
            "align_items": null,
            "align_self": null,
            "border": null,
            "bottom": null,
            "display": null,
            "flex": null,
            "flex_flow": null,
            "grid_area": null,
            "grid_auto_columns": null,
            "grid_auto_flow": null,
            "grid_auto_rows": null,
            "grid_column": null,
            "grid_gap": null,
            "grid_row": null,
            "grid_template_areas": null,
            "grid_template_columns": null,
            "grid_template_rows": null,
            "height": null,
            "justify_content": null,
            "justify_items": null,
            "left": null,
            "margin": null,
            "max_height": null,
            "max_width": null,
            "min_height": null,
            "min_width": null,
            "object_fit": null,
            "object_position": null,
            "order": null,
            "overflow": null,
            "overflow_x": null,
            "overflow_y": null,
            "padding": null,
            "right": null,
            "top": null,
            "visibility": null,
            "width": null
          }
        },
        "d7a42a3a633e411bb381260ac902bf38": {
          "model_module": "@jupyter-widgets/controls",
          "model_name": "DescriptionStyleModel",
          "model_module_version": "1.5.0",
          "state": {
            "_model_module": "@jupyter-widgets/controls",
            "_model_module_version": "1.5.0",
            "_model_name": "DescriptionStyleModel",
            "_view_count": null,
            "_view_module": "@jupyter-widgets/base",
            "_view_module_version": "1.2.0",
            "_view_name": "StyleView",
            "description_width": ""
          }
        },
        "58d260a78ead4c59b5c51b7b67e16081": {
          "model_module": "@jupyter-widgets/controls",
          "model_name": "HBoxModel",
          "model_module_version": "1.5.0",
          "state": {
            "_dom_classes": [],
            "_model_module": "@jupyter-widgets/controls",
            "_model_module_version": "1.5.0",
            "_model_name": "HBoxModel",
            "_view_count": null,
            "_view_module": "@jupyter-widgets/controls",
            "_view_module_version": "1.5.0",
            "_view_name": "HBoxView",
            "box_style": "",
            "children": [
              "IPY_MODEL_034d5e867d204430ae97e6c8c0d4950a",
              "IPY_MODEL_3a20df558b484e518dc8aceaec1934d1",
              "IPY_MODEL_2fec6784b9d34ce7955bdfcc9e4011b9"
            ],
            "layout": "IPY_MODEL_588bc7d3cdd04ca8be755862375a6930"
          }
        },
        "034d5e867d204430ae97e6c8c0d4950a": {
          "model_module": "@jupyter-widgets/controls",
          "model_name": "HTMLModel",
          "model_module_version": "1.5.0",
          "state": {
            "_dom_classes": [],
            "_model_module": "@jupyter-widgets/controls",
            "_model_module_version": "1.5.0",
            "_model_name": "HTMLModel",
            "_view_count": null,
            "_view_module": "@jupyter-widgets/controls",
            "_view_module_version": "1.5.0",
            "_view_name": "HTMLView",
            "description": "",
            "description_tooltip": null,
            "layout": "IPY_MODEL_b8809296777842fab94901af28a52ede",
            "placeholder": "​",
            "style": "IPY_MODEL_1b614f13e6224e5ab9c28b7c26257d83",
            "value": "100%"
          }
        },
        "3a20df558b484e518dc8aceaec1934d1": {
          "model_module": "@jupyter-widgets/controls",
          "model_name": "FloatProgressModel",
          "model_module_version": "1.5.0",
          "state": {
            "_dom_classes": [],
            "_model_module": "@jupyter-widgets/controls",
            "_model_module_version": "1.5.0",
            "_model_name": "FloatProgressModel",
            "_view_count": null,
            "_view_module": "@jupyter-widgets/controls",
            "_view_module_version": "1.5.0",
            "_view_name": "ProgressView",
            "bar_style": "success",
            "description": "",
            "description_tooltip": null,
            "layout": "IPY_MODEL_393d0d14664046c892ef91c86a2a8f68",
            "max": 693,
            "min": 0,
            "orientation": "horizontal",
            "style": "IPY_MODEL_7f014a8f1d474fd58b5e4a98da872fcb",
            "value": 693
          }
        },
        "2fec6784b9d34ce7955bdfcc9e4011b9": {
          "model_module": "@jupyter-widgets/controls",
          "model_name": "HTMLModel",
          "model_module_version": "1.5.0",
          "state": {
            "_dom_classes": [],
            "_model_module": "@jupyter-widgets/controls",
            "_model_module_version": "1.5.0",
            "_model_name": "HTMLModel",
            "_view_count": null,
            "_view_module": "@jupyter-widgets/controls",
            "_view_module_version": "1.5.0",
            "_view_name": "HTMLView",
            "description": "",
            "description_tooltip": null,
            "layout": "IPY_MODEL_4b7c638bf84d4a0f963800c68502e99e",
            "placeholder": "​",
            "style": "IPY_MODEL_ef41ae9f6c7747b9a1505258e631197e",
            "value": " 693/693 [00:22&lt;00:00, 31.45it/s]"
          }
        },
        "588bc7d3cdd04ca8be755862375a6930": {
          "model_module": "@jupyter-widgets/base",
          "model_name": "LayoutModel",
          "model_module_version": "1.2.0",
          "state": {
            "_model_module": "@jupyter-widgets/base",
            "_model_module_version": "1.2.0",
            "_model_name": "LayoutModel",
            "_view_count": null,
            "_view_module": "@jupyter-widgets/base",
            "_view_module_version": "1.2.0",
            "_view_name": "LayoutView",
            "align_content": null,
            "align_items": null,
            "align_self": null,
            "border": null,
            "bottom": null,
            "display": null,
            "flex": null,
            "flex_flow": null,
            "grid_area": null,
            "grid_auto_columns": null,
            "grid_auto_flow": null,
            "grid_auto_rows": null,
            "grid_column": null,
            "grid_gap": null,
            "grid_row": null,
            "grid_template_areas": null,
            "grid_template_columns": null,
            "grid_template_rows": null,
            "height": null,
            "justify_content": null,
            "justify_items": null,
            "left": null,
            "margin": null,
            "max_height": null,
            "max_width": null,
            "min_height": null,
            "min_width": null,
            "object_fit": null,
            "object_position": null,
            "order": null,
            "overflow": null,
            "overflow_x": null,
            "overflow_y": null,
            "padding": null,
            "right": null,
            "top": null,
            "visibility": null,
            "width": null
          }
        },
        "b8809296777842fab94901af28a52ede": {
          "model_module": "@jupyter-widgets/base",
          "model_name": "LayoutModel",
          "model_module_version": "1.2.0",
          "state": {
            "_model_module": "@jupyter-widgets/base",
            "_model_module_version": "1.2.0",
            "_model_name": "LayoutModel",
            "_view_count": null,
            "_view_module": "@jupyter-widgets/base",
            "_view_module_version": "1.2.0",
            "_view_name": "LayoutView",
            "align_content": null,
            "align_items": null,
            "align_self": null,
            "border": null,
            "bottom": null,
            "display": null,
            "flex": null,
            "flex_flow": null,
            "grid_area": null,
            "grid_auto_columns": null,
            "grid_auto_flow": null,
            "grid_auto_rows": null,
            "grid_column": null,
            "grid_gap": null,
            "grid_row": null,
            "grid_template_areas": null,
            "grid_template_columns": null,
            "grid_template_rows": null,
            "height": null,
            "justify_content": null,
            "justify_items": null,
            "left": null,
            "margin": null,
            "max_height": null,
            "max_width": null,
            "min_height": null,
            "min_width": null,
            "object_fit": null,
            "object_position": null,
            "order": null,
            "overflow": null,
            "overflow_x": null,
            "overflow_y": null,
            "padding": null,
            "right": null,
            "top": null,
            "visibility": null,
            "width": null
          }
        },
        "1b614f13e6224e5ab9c28b7c26257d83": {
          "model_module": "@jupyter-widgets/controls",
          "model_name": "DescriptionStyleModel",
          "model_module_version": "1.5.0",
          "state": {
            "_model_module": "@jupyter-widgets/controls",
            "_model_module_version": "1.5.0",
            "_model_name": "DescriptionStyleModel",
            "_view_count": null,
            "_view_module": "@jupyter-widgets/base",
            "_view_module_version": "1.2.0",
            "_view_name": "StyleView",
            "description_width": ""
          }
        },
        "393d0d14664046c892ef91c86a2a8f68": {
          "model_module": "@jupyter-widgets/base",
          "model_name": "LayoutModel",
          "model_module_version": "1.2.0",
          "state": {
            "_model_module": "@jupyter-widgets/base",
            "_model_module_version": "1.2.0",
            "_model_name": "LayoutModel",
            "_view_count": null,
            "_view_module": "@jupyter-widgets/base",
            "_view_module_version": "1.2.0",
            "_view_name": "LayoutView",
            "align_content": null,
            "align_items": null,
            "align_self": null,
            "border": null,
            "bottom": null,
            "display": null,
            "flex": null,
            "flex_flow": null,
            "grid_area": null,
            "grid_auto_columns": null,
            "grid_auto_flow": null,
            "grid_auto_rows": null,
            "grid_column": null,
            "grid_gap": null,
            "grid_row": null,
            "grid_template_areas": null,
            "grid_template_columns": null,
            "grid_template_rows": null,
            "height": null,
            "justify_content": null,
            "justify_items": null,
            "left": null,
            "margin": null,
            "max_height": null,
            "max_width": null,
            "min_height": null,
            "min_width": null,
            "object_fit": null,
            "object_position": null,
            "order": null,
            "overflow": null,
            "overflow_x": null,
            "overflow_y": null,
            "padding": null,
            "right": null,
            "top": null,
            "visibility": null,
            "width": null
          }
        },
        "7f014a8f1d474fd58b5e4a98da872fcb": {
          "model_module": "@jupyter-widgets/controls",
          "model_name": "ProgressStyleModel",
          "model_module_version": "1.5.0",
          "state": {
            "_model_module": "@jupyter-widgets/controls",
            "_model_module_version": "1.5.0",
            "_model_name": "ProgressStyleModel",
            "_view_count": null,
            "_view_module": "@jupyter-widgets/base",
            "_view_module_version": "1.2.0",
            "_view_name": "StyleView",
            "bar_color": null,
            "description_width": ""
          }
        },
        "4b7c638bf84d4a0f963800c68502e99e": {
          "model_module": "@jupyter-widgets/base",
          "model_name": "LayoutModel",
          "model_module_version": "1.2.0",
          "state": {
            "_model_module": "@jupyter-widgets/base",
            "_model_module_version": "1.2.0",
            "_model_name": "LayoutModel",
            "_view_count": null,
            "_view_module": "@jupyter-widgets/base",
            "_view_module_version": "1.2.0",
            "_view_name": "LayoutView",
            "align_content": null,
            "align_items": null,
            "align_self": null,
            "border": null,
            "bottom": null,
            "display": null,
            "flex": null,
            "flex_flow": null,
            "grid_area": null,
            "grid_auto_columns": null,
            "grid_auto_flow": null,
            "grid_auto_rows": null,
            "grid_column": null,
            "grid_gap": null,
            "grid_row": null,
            "grid_template_areas": null,
            "grid_template_columns": null,
            "grid_template_rows": null,
            "height": null,
            "justify_content": null,
            "justify_items": null,
            "left": null,
            "margin": null,
            "max_height": null,
            "max_width": null,
            "min_height": null,
            "min_width": null,
            "object_fit": null,
            "object_position": null,
            "order": null,
            "overflow": null,
            "overflow_x": null,
            "overflow_y": null,
            "padding": null,
            "right": null,
            "top": null,
            "visibility": null,
            "width": null
          }
        },
        "ef41ae9f6c7747b9a1505258e631197e": {
          "model_module": "@jupyter-widgets/controls",
          "model_name": "DescriptionStyleModel",
          "model_module_version": "1.5.0",
          "state": {
            "_model_module": "@jupyter-widgets/controls",
            "_model_module_version": "1.5.0",
            "_model_name": "DescriptionStyleModel",
            "_view_count": null,
            "_view_module": "@jupyter-widgets/base",
            "_view_module_version": "1.2.0",
            "_view_name": "StyleView",
            "description_width": ""
          }
        },
        "44efd879b7684e418f73251232152e09": {
          "model_module": "@jupyter-widgets/controls",
          "model_name": "HBoxModel",
          "model_module_version": "1.5.0",
          "state": {
            "_dom_classes": [],
            "_model_module": "@jupyter-widgets/controls",
            "_model_module_version": "1.5.0",
            "_model_name": "HBoxModel",
            "_view_count": null,
            "_view_module": "@jupyter-widgets/controls",
            "_view_module_version": "1.5.0",
            "_view_name": "HBoxView",
            "box_style": "",
            "children": [
              "IPY_MODEL_cf35c072c16c464682c72eb20e994a39",
              "IPY_MODEL_fdd7e9478ee64daf9efc2419708ae181",
              "IPY_MODEL_65f0bd4e9ff1488f939d4fb816d9c852"
            ],
            "layout": "IPY_MODEL_46b92ff839c14f88b0d956fe8eac1e0b"
          }
        },
        "cf35c072c16c464682c72eb20e994a39": {
          "model_module": "@jupyter-widgets/controls",
          "model_name": "HTMLModel",
          "model_module_version": "1.5.0",
          "state": {
            "_dom_classes": [],
            "_model_module": "@jupyter-widgets/controls",
            "_model_module_version": "1.5.0",
            "_model_name": "HTMLModel",
            "_view_count": null,
            "_view_module": "@jupyter-widgets/controls",
            "_view_module_version": "1.5.0",
            "_view_name": "HTMLView",
            "description": "",
            "description_tooltip": null,
            "layout": "IPY_MODEL_f64fe0ea1eb74f3c983b351c2c3a850e",
            "placeholder": "​",
            "style": "IPY_MODEL_677b052e9e66422ab2ea6472b56a2dd6",
            "value": "100%"
          }
        },
        "fdd7e9478ee64daf9efc2419708ae181": {
          "model_module": "@jupyter-widgets/controls",
          "model_name": "FloatProgressModel",
          "model_module_version": "1.5.0",
          "state": {
            "_dom_classes": [],
            "_model_module": "@jupyter-widgets/controls",
            "_model_module_version": "1.5.0",
            "_model_name": "FloatProgressModel",
            "_view_count": null,
            "_view_module": "@jupyter-widgets/controls",
            "_view_module_version": "1.5.0",
            "_view_name": "ProgressView",
            "bar_style": "success",
            "description": "",
            "description_tooltip": null,
            "layout": "IPY_MODEL_ad9129fa1cb9495d908b05425cff0c24",
            "max": 1735,
            "min": 0,
            "orientation": "horizontal",
            "style": "IPY_MODEL_515fc651a4394a26a60eb498d998c6c7",
            "value": 1735
          }
        },
        "65f0bd4e9ff1488f939d4fb816d9c852": {
          "model_module": "@jupyter-widgets/controls",
          "model_name": "HTMLModel",
          "model_module_version": "1.5.0",
          "state": {
            "_dom_classes": [],
            "_model_module": "@jupyter-widgets/controls",
            "_model_module_version": "1.5.0",
            "_model_name": "HTMLModel",
            "_view_count": null,
            "_view_module": "@jupyter-widgets/controls",
            "_view_module_version": "1.5.0",
            "_view_name": "HTMLView",
            "description": "",
            "description_tooltip": null,
            "layout": "IPY_MODEL_92e703a7d0574bd39967a30d3bd65e29",
            "placeholder": "​",
            "style": "IPY_MODEL_fef008be5bc945cda3a9aa8436878c6a",
            "value": " 1735/1735 [00:55&lt;00:00, 31.22it/s]"
          }
        },
        "46b92ff839c14f88b0d956fe8eac1e0b": {
          "model_module": "@jupyter-widgets/base",
          "model_name": "LayoutModel",
          "model_module_version": "1.2.0",
          "state": {
            "_model_module": "@jupyter-widgets/base",
            "_model_module_version": "1.2.0",
            "_model_name": "LayoutModel",
            "_view_count": null,
            "_view_module": "@jupyter-widgets/base",
            "_view_module_version": "1.2.0",
            "_view_name": "LayoutView",
            "align_content": null,
            "align_items": null,
            "align_self": null,
            "border": null,
            "bottom": null,
            "display": null,
            "flex": null,
            "flex_flow": null,
            "grid_area": null,
            "grid_auto_columns": null,
            "grid_auto_flow": null,
            "grid_auto_rows": null,
            "grid_column": null,
            "grid_gap": null,
            "grid_row": null,
            "grid_template_areas": null,
            "grid_template_columns": null,
            "grid_template_rows": null,
            "height": null,
            "justify_content": null,
            "justify_items": null,
            "left": null,
            "margin": null,
            "max_height": null,
            "max_width": null,
            "min_height": null,
            "min_width": null,
            "object_fit": null,
            "object_position": null,
            "order": null,
            "overflow": null,
            "overflow_x": null,
            "overflow_y": null,
            "padding": null,
            "right": null,
            "top": null,
            "visibility": null,
            "width": null
          }
        },
        "f64fe0ea1eb74f3c983b351c2c3a850e": {
          "model_module": "@jupyter-widgets/base",
          "model_name": "LayoutModel",
          "model_module_version": "1.2.0",
          "state": {
            "_model_module": "@jupyter-widgets/base",
            "_model_module_version": "1.2.0",
            "_model_name": "LayoutModel",
            "_view_count": null,
            "_view_module": "@jupyter-widgets/base",
            "_view_module_version": "1.2.0",
            "_view_name": "LayoutView",
            "align_content": null,
            "align_items": null,
            "align_self": null,
            "border": null,
            "bottom": null,
            "display": null,
            "flex": null,
            "flex_flow": null,
            "grid_area": null,
            "grid_auto_columns": null,
            "grid_auto_flow": null,
            "grid_auto_rows": null,
            "grid_column": null,
            "grid_gap": null,
            "grid_row": null,
            "grid_template_areas": null,
            "grid_template_columns": null,
            "grid_template_rows": null,
            "height": null,
            "justify_content": null,
            "justify_items": null,
            "left": null,
            "margin": null,
            "max_height": null,
            "max_width": null,
            "min_height": null,
            "min_width": null,
            "object_fit": null,
            "object_position": null,
            "order": null,
            "overflow": null,
            "overflow_x": null,
            "overflow_y": null,
            "padding": null,
            "right": null,
            "top": null,
            "visibility": null,
            "width": null
          }
        },
        "677b052e9e66422ab2ea6472b56a2dd6": {
          "model_module": "@jupyter-widgets/controls",
          "model_name": "DescriptionStyleModel",
          "model_module_version": "1.5.0",
          "state": {
            "_model_module": "@jupyter-widgets/controls",
            "_model_module_version": "1.5.0",
            "_model_name": "DescriptionStyleModel",
            "_view_count": null,
            "_view_module": "@jupyter-widgets/base",
            "_view_module_version": "1.2.0",
            "_view_name": "StyleView",
            "description_width": ""
          }
        },
        "ad9129fa1cb9495d908b05425cff0c24": {
          "model_module": "@jupyter-widgets/base",
          "model_name": "LayoutModel",
          "model_module_version": "1.2.0",
          "state": {
            "_model_module": "@jupyter-widgets/base",
            "_model_module_version": "1.2.0",
            "_model_name": "LayoutModel",
            "_view_count": null,
            "_view_module": "@jupyter-widgets/base",
            "_view_module_version": "1.2.0",
            "_view_name": "LayoutView",
            "align_content": null,
            "align_items": null,
            "align_self": null,
            "border": null,
            "bottom": null,
            "display": null,
            "flex": null,
            "flex_flow": null,
            "grid_area": null,
            "grid_auto_columns": null,
            "grid_auto_flow": null,
            "grid_auto_rows": null,
            "grid_column": null,
            "grid_gap": null,
            "grid_row": null,
            "grid_template_areas": null,
            "grid_template_columns": null,
            "grid_template_rows": null,
            "height": null,
            "justify_content": null,
            "justify_items": null,
            "left": null,
            "margin": null,
            "max_height": null,
            "max_width": null,
            "min_height": null,
            "min_width": null,
            "object_fit": null,
            "object_position": null,
            "order": null,
            "overflow": null,
            "overflow_x": null,
            "overflow_y": null,
            "padding": null,
            "right": null,
            "top": null,
            "visibility": null,
            "width": null
          }
        },
        "515fc651a4394a26a60eb498d998c6c7": {
          "model_module": "@jupyter-widgets/controls",
          "model_name": "ProgressStyleModel",
          "model_module_version": "1.5.0",
          "state": {
            "_model_module": "@jupyter-widgets/controls",
            "_model_module_version": "1.5.0",
            "_model_name": "ProgressStyleModel",
            "_view_count": null,
            "_view_module": "@jupyter-widgets/base",
            "_view_module_version": "1.2.0",
            "_view_name": "StyleView",
            "bar_color": null,
            "description_width": ""
          }
        },
        "92e703a7d0574bd39967a30d3bd65e29": {
          "model_module": "@jupyter-widgets/base",
          "model_name": "LayoutModel",
          "model_module_version": "1.2.0",
          "state": {
            "_model_module": "@jupyter-widgets/base",
            "_model_module_version": "1.2.0",
            "_model_name": "LayoutModel",
            "_view_count": null,
            "_view_module": "@jupyter-widgets/base",
            "_view_module_version": "1.2.0",
            "_view_name": "LayoutView",
            "align_content": null,
            "align_items": null,
            "align_self": null,
            "border": null,
            "bottom": null,
            "display": null,
            "flex": null,
            "flex_flow": null,
            "grid_area": null,
            "grid_auto_columns": null,
            "grid_auto_flow": null,
            "grid_auto_rows": null,
            "grid_column": null,
            "grid_gap": null,
            "grid_row": null,
            "grid_template_areas": null,
            "grid_template_columns": null,
            "grid_template_rows": null,
            "height": null,
            "justify_content": null,
            "justify_items": null,
            "left": null,
            "margin": null,
            "max_height": null,
            "max_width": null,
            "min_height": null,
            "min_width": null,
            "object_fit": null,
            "object_position": null,
            "order": null,
            "overflow": null,
            "overflow_x": null,
            "overflow_y": null,
            "padding": null,
            "right": null,
            "top": null,
            "visibility": null,
            "width": null
          }
        },
        "fef008be5bc945cda3a9aa8436878c6a": {
          "model_module": "@jupyter-widgets/controls",
          "model_name": "DescriptionStyleModel",
          "model_module_version": "1.5.0",
          "state": {
            "_model_module": "@jupyter-widgets/controls",
            "_model_module_version": "1.5.0",
            "_model_name": "DescriptionStyleModel",
            "_view_count": null,
            "_view_module": "@jupyter-widgets/base",
            "_view_module_version": "1.2.0",
            "_view_name": "StyleView",
            "description_width": ""
          }
        }
      }
    }
  },
  "cells": [
    {
      "cell_type": "markdown",
      "metadata": {
        "id": "view-in-github",
        "colab_type": "text"
      },
      "source": [
        "<a href=\"https://colab.research.google.com/github/liorot/IDC_NLP_Final_Project_2022/blob/main/LSTM_Model.ipynb\" target=\"_parent\"><img src=\"https://colab.research.google.com/assets/colab-badge.svg\" alt=\"Open In Colab\"/></a>"
      ]
    },
    {
      "cell_type": "code",
      "source": [
        "#library imports\n",
        "import torch\n",
        "import torch.nn as nn\n",
        "import pandas as pd\n",
        "import numpy as np\n",
        "import re\n",
        "import spacy\n",
        "from collections import Counter\n",
        "from torch.utils.data import Dataset, DataLoader\n",
        "import torch.nn.functional as F\n",
        "import string\n",
        "from torch.nn.utils.rnn import pack_padded_sequence, pad_packed_sequence\n",
        "from sklearn.metrics import mean_squared_error\n",
        "from sklearn.model_selection import train_test_split\n",
        "from torch.nn.modules import dropout\n",
        "from google.colab import drive\n",
        "import re\n",
        "\n",
        "from nltk.tokenize import RegexpTokenizer\n",
        "from nltk.stem import WordNetLemmatizer\n",
        "from nltk.corpus import stopwords\n",
        "import string\n",
        "import nltk\n",
        "nltk.download('stopwords')\n",
        "nltk.download('punkt')\n",
        "nltk.download('wordnet')\n",
        "nltk.download('omw-1.4')"
      ],
      "metadata": {
        "colab": {
          "base_uri": "https://localhost:8080/"
        },
        "id": "TYGv672UyxO_",
        "outputId": "5ee5b87a-537a-4ef9-ccc2-9e068698389d"
      },
      "execution_count": 1,
      "outputs": [
        {
          "output_type": "stream",
          "name": "stderr",
          "text": [
            "[nltk_data] Downloading package stopwords to /root/nltk_data...\n",
            "[nltk_data]   Unzipping corpora/stopwords.zip.\n",
            "[nltk_data] Downloading package punkt to /root/nltk_data...\n",
            "[nltk_data]   Unzipping tokenizers/punkt.zip.\n",
            "[nltk_data] Downloading package wordnet to /root/nltk_data...\n",
            "[nltk_data] Downloading package omw-1.4 to /root/nltk_data...\n"
          ]
        },
        {
          "output_type": "execute_result",
          "data": {
            "text/plain": [
              "True"
            ]
          },
          "metadata": {},
          "execution_count": 1
        }
      ]
    },
    {
      "cell_type": "code",
      "source": [
        "drive.mount('/drive')\n",
        "DIRECTORY = '/drive/MyDrive/Colab Notebooks/NLPFinalProject/mbti.csv'\n",
        "data = pd.read_csv(DIRECTORY)"
      ],
      "metadata": {
        "colab": {
          "base_uri": "https://localhost:8080/"
        },
        "id": "D5UI99SsrvUT",
        "outputId": "aeaa9e59-fc04-4a30-c23f-6bc0bfb176b9"
      },
      "execution_count": 3,
      "outputs": [
        {
          "output_type": "stream",
          "name": "stdout",
          "text": [
            "Mounted at /drive\n"
          ]
        }
      ]
    },
    {
      "cell_type": "code",
      "source": [
        "RANDOM_SEED = 42\n",
        "LABEL_COLUMNS = [\"I-E\",\"N-S\",\"T-F\",\"J-P\"]\n",
        "classes = {\"I\":0, \"E\":1, # axis 1\n",
        "           \"N\":0,\"S\":1, # axis 2\n",
        "           \"T\":0, \"F\":1, # axis 3\n",
        "           \"J\":0,\"P\":1} # axis 4\n",
        "PERSONALTIES_TYPE = {x:i for i,x in enumerate(set(data['type'].to_list()))}\n",
        "data['label'] = data['type'].apply(lambda x: PERSONALTIES_TYPE[x])"
      ],
      "metadata": {
        "id": "H5MzkTeZH1Ji"
      },
      "execution_count": 4,
      "outputs": []
    },
    {
      "cell_type": "code",
      "source": [
        "# If there's a GPU available...\n",
        "if torch.cuda.is_available():    \n",
        "\n",
        "    # Tell PyTorch to use the GPU.    \n",
        "    device = torch.device(\"cuda\")\n",
        "\n",
        "    print('There are %d GPU(s) available.' % torch.cuda.device_count())\n",
        "\n",
        "    print('We will use the GPU:', torch.cuda.get_device_name(0))\n",
        "\n",
        "# If not...\n",
        "else:\n",
        "    print('No GPU available, using the CPU instead.')\n",
        "    device = torch.device(\"cpu\")"
      ],
      "metadata": {
        "colab": {
          "base_uri": "https://localhost:8080/"
        },
        "id": "v1si9LWF3-oX",
        "outputId": "398fbf86-3646-4ed1-eaec-b584c526915b"
      },
      "execution_count": 5,
      "outputs": [
        {
          "output_type": "stream",
          "name": "stdout",
          "text": [
            "There are 1 GPU(s) available.\n",
            "We will use the GPU: Tesla T4\n"
          ]
        }
      ]
    },
    {
      "cell_type": "markdown",
      "source": [
        "# Preprocessing\n",
        "Same as for the Bert Model"
      ],
      "metadata": {
        "id": "2TNuyZb0pgOL"
      }
    },
    {
      "cell_type": "code",
      "source": [
        "def remove_extra_white_spaces(text):\n",
        "    single_char_pattern = r'\\s+[a-zA-Z]\\s+'\n",
        "    without_sc = re.sub(pattern=single_char_pattern, repl=\" \", string=text)\n",
        "    return without_sc\n",
        "\n",
        "def lemmatizing(text):\n",
        "    lemmatizer = WordNetLemmatizer()\n",
        "    tokens = nltk.word_tokenize(text)\n",
        "    for i in range(len(tokens)):\n",
        "        lemma_word = lemmatizer.lemmatize(tokens[i])\n",
        "        tokens[i] = lemma_word\n",
        "    return \" \".join(tokens)\n",
        "\n",
        "# method to clean the text\n",
        "def clean_posts(text, drop_stop_words = True, drop_per_types=True):\n",
        "    text = text.lower()\n",
        "    # replacing ||| with space\n",
        "    text = re.sub(r\"\\|\\|\\|\", \" \", text)\n",
        "\n",
        "    text = re.sub('https?://\\S+|www\\.\\S+', '', text) # remove url\n",
        "    # this function remove emoji \n",
        "    text.encode('ascii', 'ignore').decode('ascii')\n",
        "\n",
        "    # remove extra white spaces\n",
        "    text = remove_extra_white_spaces(text)\n",
        "    \n",
        "    # tokenize the text and remove puncutation\n",
        "    text = [word.strip(string.punctuation) for word in text.split(\" \")]\n",
        "    # remove words that contain numbers\n",
        "    text = [word for word in text if not any(c.isdigit() for c in word)]\n",
        "    \n",
        "    if drop_per_types:\n",
        "        text = [x for x in text if x.upper() not in PERSONALTIES_TYPE]\n",
        "        \n",
        "    if drop_stop_words:\n",
        "        for word in stopwords.words('english'):\n",
        "            if word in text:\n",
        "                text.remove(word) \n",
        "\n",
        "    # remove empty/1 length words\n",
        "    text = [t for t in text if len(t) > 1]\n",
        "    \n",
        "    # lemmatize\n",
        "    clean_post = lemmatizing(\" \".join(text))\n",
        "\n",
        "    return clean_post\n",
        "\n",
        "def encode_posts(text, vocab2index, max_text_length):\n",
        "    tokenized = [token.text for token in tok.tokenizer(text)]\n",
        "    encoded = np.zeros(max_text_length, dtype=int)\n",
        "    enc1 = np.array([vocab2index.get(word, vocab2index[\"UNK\"]) for word in tokenized])\n",
        "    length = min(max_text_length, len(enc1))\n",
        "    encoded[:length] = enc1[:length]\n",
        "    return encoded"
      ],
      "metadata": {
        "id": "n5i41S2MvmjO"
      },
      "execution_count": 6,
      "outputs": []
    },
    {
      "cell_type": "code",
      "source": [
        "data['posts'] = data['posts'].apply(clean_posts)"
      ],
      "metadata": {
        "id": "qTOt5PDM_7qH"
      },
      "execution_count": 7,
      "outputs": []
    },
    {
      "cell_type": "markdown",
      "source": [
        "# Vocab\n",
        "\n",
        "We need to convert our text into a numerical form that can be fed to our model as input. we have used spacy for tokenization after cleaning the data.\n",
        "We first want to build a vocbulary so we count the number of occurrences of each token in our corpus and choose the top freqeunt words \n",
        "\n",
        "We then create a vocabulary to index mapping and encode our posts using this mapping."
      ],
      "metadata": {
        "id": "lGJSIJifNXX_"
      }
    },
    {
      "cell_type": "code",
      "source": [
        "#tokenization\n",
        "tok = spacy.load(\"en_core_web_sm\")\n",
        "\n",
        "#count number of occurences of each word\n",
        "max_tokens = 0\n",
        "sum_num = 0\n",
        "counts = Counter()\n",
        "for index, row in data.iterrows():\n",
        "    posts = row['posts']\n",
        "    tokens = [token.text for token in tok.tokenizer(posts)]\n",
        "    max_tokens = max(len(tokens), max_tokens)\n",
        "    sum_num += len(tokens)\n",
        "    counts.update(tokens)\n",
        "print(f\"max number of tokens: {max_tokens}\")\n",
        "print(f\"average number of tokens: {sum_num/len(data)}\")"
      ],
      "metadata": {
        "colab": {
          "base_uri": "https://localhost:8080/"
        },
        "id": "l8hauK_gMmXG",
        "outputId": "3b76396b-ab41-4550-9884-e680775c5628"
      },
      "execution_count": 8,
      "outputs": [
        {
          "output_type": "stream",
          "name": "stdout",
          "text": [
            "max number of tokens: 1750\n",
            "average number of tokens: 1131.9897406340058\n"
          ]
        }
      ]
    },
    {
      "cell_type": "markdown",
      "source": [
        "As we can see, the averge number of tokens for each user is ~1000 tokens.\n",
        "After trying diffrent values between 300-1000 we found that the max text length that brings better results is 700.\n",
        "Also, we check for diffrent values for the vocab length, i.e how many freqent words to include and find the best value for this hyper paramter is 3000."
      ],
      "metadata": {
        "id": "DnK8wt-bkqzc"
      }
    },
    {
      "cell_type": "code",
      "source": [
        "### Preprocessing variables\n",
        "NUM_FREQ_WORDS = 3000\n",
        "MAX_TEXT_LENGTH = 700"
      ],
      "metadata": {
        "id": "XEzEEo6wx8xT"
      },
      "execution_count": 9,
      "outputs": []
    },
    {
      "cell_type": "code",
      "source": [
        "print(\"num_words before:\",len(counts.keys()))\n",
        "counts = dict(counts.most_common(NUM_FREQ_WORDS))\n",
        "print(\"num_words before:\",len(counts.keys()))"
      ],
      "metadata": {
        "colab": {
          "base_uri": "https://localhost:8080/"
        },
        "id": "RJzi5x07lQG9",
        "outputId": "0f82b31e-8461-4697-9b6b-eaea79eab96d"
      },
      "execution_count": 10,
      "outputs": [
        {
          "output_type": "stream",
          "name": "stdout",
          "text": [
            "num_words before: 93126\n",
            "num_words before: 3000\n"
          ]
        }
      ]
    },
    {
      "cell_type": "code",
      "source": [
        "#creating vocabulary\n",
        "vocab2index = {\"\":0, \"UNK\":1}\n",
        "words = [\"\", \"UNK\"]\n",
        "for word in counts:\n",
        "    vocab2index[word] = len(words)\n",
        "    words.append(word)"
      ],
      "metadata": {
        "id": "YKGDb3RDNRrV"
      },
      "execution_count": 11,
      "outputs": []
    },
    {
      "cell_type": "markdown",
      "source": [
        "# Create Dataset"
      ],
      "metadata": {
        "id": "5NqVc5aSMzdp"
      }
    },
    {
      "cell_type": "markdown",
      "source": [
        "This function takes one of the [train, dev, test] and the vocab2index, and creating dataset for the model from shape of [(LongTensor, FloatTensor)] that corresponds to (user posts,labels) which each long tensor represent encoded posts of a user and each float tensor represent the labels for this user."
      ],
      "metadata": {
        "id": "6_Crid8oqYQJ"
      }
    },
    {
      "cell_type": "code",
      "source": [
        "def create_dataset(data, vocab2index):\n",
        "  data_sequences = []\n",
        "  for index, row in data.iterrows():\n",
        "    posts = row['posts']\n",
        "    labels = [classes[p] for p in row[\"type\"]]\n",
        "    labels = np.array(labels, dtype=\"float32\")\n",
        "    if len(posts) > 1:\n",
        "      encoded = torch.LongTensor(encode_posts(posts, vocab2index, MAX_TEXT_LENGTH))\n",
        "      tags = torch.FloatTensor(labels)\n",
        "      data_sequences.append((encoded, tags))\n",
        "  return data_sequences"
      ],
      "metadata": {
        "id": "0-2StZ_c_eCF"
      },
      "execution_count": 12,
      "outputs": []
    },
    {
      "cell_type": "markdown",
      "source": [
        "# Split to Train, Test, Validation"
      ],
      "metadata": {
        "id": "wYUnS2k2aiWt"
      }
    },
    {
      "cell_type": "code",
      "source": [
        "df_train, df_test = train_test_split(data, test_size=0.2, random_state=RANDOM_SEED)\n",
        "df_train, df_val = train_test_split(df_train, test_size=0.1, random_state=RANDOM_SEED)\n",
        "print (f\" train data size is: {len(df_train)}\")\n",
        "print (f\" test data size is: {len(df_test)}\")\n",
        "print (f\" val data size is: {len(df_val)}\")"
      ],
      "metadata": {
        "colab": {
          "base_uri": "https://localhost:8080/"
        },
        "id": "UtXB0lGE3B0t",
        "outputId": "4cfa5877-54b0-4a08-c958-17124f4140ab"
      },
      "execution_count": 13,
      "outputs": [
        {
          "output_type": "stream",
          "name": "stdout",
          "text": [
            " train data size is: 6246\n",
            " test data size is: 1735\n",
            " val data size is: 694\n"
          ]
        }
      ]
    },
    {
      "cell_type": "code",
      "source": [
        "train_sequences = create_dataset(df_train, vocab2index)\n",
        "test_sequences = create_dataset(df_test, vocab2index)\n",
        "val_sequences = create_dataset(df_val, vocab2index)"
      ],
      "metadata": {
        "id": "efRME4C6Pxlc"
      },
      "execution_count": 14,
      "outputs": []
    },
    {
      "cell_type": "markdown",
      "source": [
        "# Data Loader\n",
        "\n",
        "Create the DataLoaders for our training set."
      ],
      "metadata": {
        "id": "M1d4fJ8SB-Do"
      }
    },
    {
      "cell_type": "code",
      "source": [
        "from torch.utils.data import DataLoader, RandomSampler, WeightedRandomSampler\n",
        "\n",
        "# Use to balance the data\n",
        "def get_train_sampler(df_train):\n",
        "  labels=df_train['label']\n",
        "  counts = np.bincount(labels)\n",
        "  labels_weights = 1. / counts\n",
        "  weights = labels_weights[labels]\n",
        "  return WeightedRandomSampler(weights, len(weights))\n",
        "\n",
        "#We'll take training samples in random order with weights to overcome data imbalance. \n",
        "train_dataloader = DataLoader(\n",
        "            train_sequences,  # The training samples.\n",
        "            sampler = get_train_sampler(df_train), # Select users randomly according to weights\n",
        "        )"
      ],
      "metadata": {
        "id": "dfwnGqYM2qTi"
      },
      "execution_count": 53,
      "outputs": []
    },
    {
      "cell_type": "markdown",
      "source": [
        "# Model\n",
        "we have glove embedding, dropout layer to prevent overfitting, final linear layer with 4 outputs.\n"
      ],
      "metadata": {
        "id": "WGAFpXBNxcUP"
      }
    },
    {
      "cell_type": "code",
      "source": [
        "### Learning variables\n",
        "LEARNING_RATE = 0.001\n",
        "DROPOUT = 0.1\n",
        "NUM_EPOCHS = 10\n",
        "VOCAB_SIZE = len(words)\n",
        "N_LAYERS = 2\n",
        "EMBEDDING_SIZE = 300\n",
        "HIDDEN_SIZE = 500"
      ],
      "metadata": {
        "id": "me_qYcDJPJFl"
      },
      "execution_count": 16,
      "outputs": []
    },
    {
      "cell_type": "markdown",
      "source": [
        "MbtiLSTMNet, is a PyTorch Module for labeling user with personality prediction\n",
        "\n",
        "input_size: the size of the vocabulary\n",
        "\n",
        "embedding_size: the size of the embeddings\n",
        "\n",
        "Embeddings - learned embedding.\n",
        "\n",
        "hidden_size: the LSTM hidden size\n",
        "\n",
        "output_size: the number tags we are predicting for\n",
        "\n",
        "n_layers: the number of layers we want to use in LSTM\n",
        "\n",
        "The input for the forward function is a tensor containing 700 tokens from the user post."
      ],
      "metadata": {
        "id": "uiF6VfvlmIQx"
      }
    },
    {
      "cell_type": "code",
      "source": [
        "class MbtiLSTMNet(nn.Module):\n",
        "    def __init__(self, input_size, embedding_size, hidden_size, output_size, n_layers):\n",
        "        super(MbtiLSTMNet, self).__init__()\n",
        "        self.embedding = nn.Embedding(input_size, embedding_size)\n",
        "        self.lstm = nn.LSTM(embedding_size, hidden_size, n_layers, batch_first=True, dropout=DROPOUT)\n",
        "        self.out = nn.Linear(hidden_size*n_layers, output_size)\n",
        "        self.hidden_size = hidden_size\n",
        "        self.n_layers = n_layers\n",
        "    \n",
        "    def forward(self, input_post):\n",
        "        post = self.embedding(input_post)\n",
        "        lstm_output, (hn,cn) = self.lstm(post)\n",
        "        output = self.out(hn.permute(1,0,2).view(1,-1))\n",
        "        return output"
      ],
      "metadata": {
        "id": "U-ENzHzLuNkr"
      },
      "execution_count": 17,
      "outputs": []
    },
    {
      "cell_type": "markdown",
      "source": [
        "## Training"
      ],
      "metadata": {
        "id": "Ybv_KVy1au5y"
      }
    },
    {
      "cell_type": "code",
      "source": [
        "def train_loop(model, n_epochs):\n",
        "  \"\"\"\n",
        "  train loop for multilabel classification , https://discuss.pytorch.org/t/multi-label-classification-in-pytorch/905/45\n",
        "  \"\"\"\n",
        "  # Loss function\n",
        "  criterion = nn.BCEWithLogitsLoss()\n",
        "\n",
        "  # Optimizer (ADAM is a fancy version of SGD)\n",
        "  optimizer = torch.optim.Adam(model.parameters(), lr=0.0001)\n",
        "\n",
        "  for e in range(1, n_epochs + 1):\n",
        "    print(f\"Starting ephoch : {e}\")\n",
        "    for i, (post, labels) in enumerate(train_dataloader):\n",
        "      if i%2000 == 0 and i!=0:\n",
        "        print(f\"Finish Training model on {i} users for epoch {e}\")\n",
        "      post_tensor = post.view(1,-1).to(device)\n",
        "      labels_tensor = labels.to(device)\n",
        "      optimizer.zero_grad()\n",
        "      output_labels = model(post_tensor)\n",
        "      criterion(output_labels,labels_tensor).backward()\n",
        "      optimizer.step()\n",
        "  \n",
        "  return model"
      ],
      "metadata": {
        "id": "xnqId4A_0MxC"
      },
      "execution_count": 18,
      "outputs": []
    },
    {
      "cell_type": "code",
      "source": [
        "model = MbtiLSTMNet(input_size=VOCAB_SIZE, \n",
        "                   embedding_size=EMBEDDING_SIZE, \n",
        "                   hidden_size=HIDDEN_SIZE, output_size=len(LABEL_COLUMNS), \n",
        "                   n_layers=N_LAYERS)"
      ],
      "metadata": {
        "id": "gAuYGXiJ6asT"
      },
      "execution_count": 56,
      "outputs": []
    },
    {
      "cell_type": "code",
      "source": [
        "model = model.to(device)\n",
        "model = train_loop(model, NUM_EPOCHS)"
      ],
      "metadata": {
        "colab": {
          "base_uri": "https://localhost:8080/"
        },
        "id": "nxgCKXsb7Zx1",
        "outputId": "7d077f1a-0432-4a62-954c-461f3d40d323"
      },
      "execution_count": 57,
      "outputs": [
        {
          "output_type": "stream",
          "name": "stdout",
          "text": [
            "Starting ephoch : 1\n",
            "Finish Training model on 2000 users for epoch 1\n",
            "Finish Training model on 4000 users for epoch 1\n",
            "Finish Training model on 6000 users for epoch 1\n",
            "Starting ephoch : 2\n",
            "Finish Training model on 2000 users for epoch 2\n",
            "Finish Training model on 4000 users for epoch 2\n",
            "Finish Training model on 6000 users for epoch 2\n",
            "Starting ephoch : 3\n",
            "Finish Training model on 2000 users for epoch 3\n",
            "Finish Training model on 4000 users for epoch 3\n",
            "Finish Training model on 6000 users for epoch 3\n",
            "Starting ephoch : 4\n",
            "Finish Training model on 2000 users for epoch 4\n",
            "Finish Training model on 4000 users for epoch 4\n",
            "Finish Training model on 6000 users for epoch 4\n",
            "Starting ephoch : 5\n",
            "Finish Training model on 2000 users for epoch 5\n",
            "Finish Training model on 4000 users for epoch 5\n",
            "Finish Training model on 6000 users for epoch 5\n",
            "Starting ephoch : 6\n",
            "Finish Training model on 2000 users for epoch 6\n",
            "Finish Training model on 4000 users for epoch 6\n",
            "Finish Training model on 6000 users for epoch 6\n",
            "Starting ephoch : 7\n",
            "Finish Training model on 2000 users for epoch 7\n",
            "Finish Training model on 4000 users for epoch 7\n",
            "Finish Training model on 6000 users for epoch 7\n",
            "Starting ephoch : 8\n",
            "Finish Training model on 2000 users for epoch 8\n",
            "Finish Training model on 4000 users for epoch 8\n",
            "Finish Training model on 6000 users for epoch 8\n",
            "Starting ephoch : 9\n",
            "Finish Training model on 2000 users for epoch 9\n",
            "Finish Training model on 4000 users for epoch 9\n",
            "Finish Training model on 6000 users for epoch 9\n",
            "Starting ephoch : 10\n",
            "Finish Training model on 2000 users for epoch 10\n",
            "Finish Training model on 4000 users for epoch 10\n",
            "Finish Training model on 6000 users for epoch 10\n"
          ]
        }
      ]
    },
    {
      "cell_type": "code",
      "source": [
        "# save the model\n",
        "PATH = '/drive/MyDrive/Colab Notebooks/LSTM_trained_model.pt'\n",
        "# torch.save(model, PATH)\n",
        "model = torch.load(PATH)"
      ],
      "metadata": {
        "id": "04I7nLxwk1tz"
      },
      "execution_count": 37,
      "outputs": []
    },
    {
      "cell_type": "markdown",
      "source": [
        "## Evaluation"
      ],
      "metadata": {
        "id": "kbwps-7BPg0Y"
      }
    },
    {
      "cell_type": "code",
      "source": [
        "import matplotlib.pyplot as plt\n",
        "from sklearn.metrics import auc, roc_curve\n",
        "from sklearn.metrics import classification_report, multilabel_confusion_matrix\n",
        "from tqdm.auto import tqdm\n",
        "\n",
        "THRESHOLD = 0.5\n",
        "MAP = [{0:\"I\", 1:\"E\"}, # axis 1\n",
        "{0:\"N\",1:\"S\"}, # axis 2\n",
        "{0:\"T\", 1:\"F\"}, # axis 3\n",
        "{0:\"J\",1:\"P\"}] # axis 4\n",
        "\n",
        "def create_mbti_from_vector(vector_pred):\n",
        "  pred = \"\"\n",
        "  for i in range(len(MAP)):\n",
        "    pred+= MAP[i][vector_pred[i]]\n",
        "  return pred\n",
        "\n",
        "def plot_roc_auc(y_test, y_score, classes):\n",
        "    assert len(classes) > 1, \"len classes must be > 1\"\n",
        "    plt.figure()\n",
        "    if len(classes) > 2:  # multi-label\n",
        "        # Compute ROC curve and ROC area for each class\n",
        "        for i in range(len(classes)):\n",
        "            fpr, tpr, _ = roc_curve(y_test[:, i], y_score[:, i])\n",
        "            roc_auc = auc(fpr, tpr)\n",
        "            plt.plot(fpr, tpr, label='ROC curve of class {0} (area = {1:0.2f})'.format(classes[i], roc_auc))\n",
        "        # Compute micro-average ROC curve and ROC area\n",
        "        fpr, tpr, _ = roc_curve(y_test.ravel(), y_score.ravel())\n",
        "        roc_auc = auc(fpr, tpr)\n",
        "        # Plot ROC curve\n",
        "        plt.plot(fpr, tpr, label='micro-average ROC curve (area = {0:0.2f})'.format(roc_auc))\n",
        "    else:\n",
        "        fpr, tpr, _ = roc_curve(y_test, y_score)\n",
        "        roc_auc = auc(fpr, tpr)\n",
        "        plt.plot(fpr, tpr, label='ROC curve (area = {0:0.2f})'.format(roc_auc))\n",
        "    \n",
        "    plt.plot([0, 1], [0, 1], 'k--')\n",
        "    plt.xlim([0.0, 1.0])\n",
        "    plt.ylim([0.0, 1.05])\n",
        "    plt.xlabel('False Positive Rate')\n",
        "    plt.ylabel('True Positive Rate')\n",
        "    plt.title('Receiver operating characteristic')\n",
        "    plt.legend(loc=\"lower right\")\n",
        "    plt.show()\n",
        "\n",
        "def evaluate(trained_model, dataset):\n",
        "  trained_model = trained_model.to(device)\n",
        "\n",
        "  predictions = []\n",
        "  labels = []\n",
        "  mbti_true=[]\n",
        "  for posts,tags in tqdm(dataset):\n",
        "    input_posts = posts.view(1,-1).to(device)\n",
        "    prediction = trained_model(input_posts)\n",
        "    prediction = torch.nn.Sigmoid()(prediction)\n",
        "    predictions.append(prediction.flatten())\n",
        "    labels.append(tags.int())\n",
        "    mbti_true.append(create_mbti_from_vector(tags.numpy()))\n",
        "  predictions = torch.stack(predictions).detach().cpu()\n",
        "  labels = torch.stack(labels).detach().cpu()\n",
        "\n",
        "  y_pred = np.array(predictions)\n",
        "  y_true = labels.numpy()\n",
        "  y_pred = np.where(y_pred > THRESHOLD, 1, 0)\n",
        "\n",
        "  mbti_pred = [create_mbti_from_vector(x) for x in y_pred]\n",
        "  mbti_hits = sum([1 for i in range(len(mbti_pred)) if mbti_pred[i]==mbti_true[i]])\n",
        "  print(f\"total mbti hits: {mbti_hits}\")\n",
        "  print(f\"total accuracy mbti hits: {(mbti_hits/len(mbti_pred))*100}\")\n",
        "  print(classification_report(y_true,y_pred, target_names=LABEL_COLUMNS, zero_division=0))\n",
        "  plot_roc_auc(y_true, y_pred, LABEL_COLUMNS)"
      ],
      "metadata": {
        "id": "nVazBomfJL29"
      },
      "execution_count": 52,
      "outputs": []
    },
    {
      "cell_type": "code",
      "source": [
        "model.eval()\n",
        "print(\"Evaluating Validation set..\")\n",
        "evaluate(model, val_sequences)\n",
        "print(\"Evaluating Test set..\")\n",
        "evaluate(model, test_sequences)"
      ],
      "metadata": {
        "colab": {
          "base_uri": "https://localhost:8080/",
          "height": 1000,
          "referenced_widgets": [
            "b2c05e9eb4f3446c9d21aa2d04028e34",
            "6460fe15d53f44fa90a4e278a66c3b9f",
            "d9122819285d4bcfa0ed226515cd231f",
            "2ca473dc8f6546f7968255df1982f3b4",
            "a3106445d1c0482db5435cf0dcbe53cf",
            "51de879b07644321abeec9534f6bf0c0",
            "58086cebd5f840b194a2bd19d3b7c24c",
            "3f0d3f0956c54ce098200e5725eb53b3",
            "2b95bac8cf3346f1b577ae32dbdc1393",
            "35bea6183f4041939cc027e3dca1719a",
            "cbb10524bbf3439995e907f25fc8ff62",
            "741dd0f09f364b7fb66e905486fa1958",
            "1f5a43a01fb440ffac6de4f46808ff25",
            "c193a8ce6b12450b80f2d22736824185",
            "c7bbdab985464a349bcb38085921f861",
            "e69263aae93a4ae8bd4e6f2ef3c60838",
            "828e5128bfdb458290a8422a4804210b",
            "107b9fba1fa3473bb0cfc29dff6c5786",
            "3c74b25156f94a3084c60684547d9d2e",
            "11b95e66f279436fa6c22d63de21a5cd",
            "79088bede44e492f8990f0f89464d873",
            "d7a42a3a633e411bb381260ac902bf38"
          ]
        },
        "id": "wbps-A-2xQKh",
        "outputId": "b7f86026-c155-4e55-d0ca-3fadc11cf2b6"
      },
      "execution_count": 51,
      "outputs": [
        {
          "output_type": "stream",
          "name": "stdout",
          "text": [
            "Evaluating Validation set..\n"
          ]
        },
        {
          "output_type": "display_data",
          "data": {
            "text/plain": [
              "  0%|          | 0/693 [00:00<?, ?it/s]"
            ],
            "application/vnd.jupyter.widget-view+json": {
              "version_major": 2,
              "version_minor": 0,
              "model_id": "b2c05e9eb4f3446c9d21aa2d04028e34"
            }
          },
          "metadata": {}
        },
        {
          "output_type": "stream",
          "name": "stdout",
          "text": [
            "total mbti hits: 177\n",
            "total accuracy mbti hits: 25.541125541125542\n",
            "              precision    recall  f1-score   support\n",
            "\n",
            "         I-E       0.38      0.26      0.31       158\n",
            "         N-S       0.42      0.21      0.28        90\n",
            "         T-F       0.62      0.58      0.60       377\n",
            "         J-P       0.65      0.75      0.70       416\n",
            "\n",
            "   micro avg       0.60      0.57      0.58      1041\n",
            "   macro avg       0.52      0.45      0.47      1041\n",
            "weighted avg       0.58      0.57      0.57      1041\n",
            " samples avg       0.53      0.49      0.48      1041\n",
            "\n"
          ]
        },
        {
          "output_type": "display_data",
          "data": {
            "text/plain": [
              "<Figure size 432x288 with 1 Axes>"
            ],
            "image/png": "[encoded data removed]"
          },
          "metadata": {
            "needs_background": "light"
          }
        },
        {
          "output_type": "stream",
          "name": "stdout",
          "text": [
            "Evaluating Test set..\n"
          ]
        },
        {
          "output_type": "display_data",
          "data": {
            "text/plain": [
              "  0%|          | 0/1735 [00:00<?, ?it/s]"
            ],
            "application/vnd.jupyter.widget-view+json": {
              "version_major": 2,
              "version_minor": 0,
              "model_id": "741dd0f09f364b7fb66e905486fa1958"
            }
          },
          "metadata": {}
        },
        {
          "output_type": "stream",
          "name": "stdout",
          "text": [
            "total mbti hits: 372\n",
            "total accuracy mbti hits: 21.44092219020173\n",
            "              precision    recall  f1-score   support\n",
            "\n",
            "         I-E       0.32      0.20      0.25       382\n",
            "         N-S       0.27      0.11      0.16       246\n",
            "         T-F       0.60      0.54      0.56       937\n",
            "         J-P       0.65      0.74      0.69      1066\n",
            "\n",
            "   micro avg       0.58      0.53      0.55      2631\n",
            "   macro avg       0.46      0.40      0.41      2631\n",
            "weighted avg       0.54      0.53      0.53      2631\n",
            " samples avg       0.51      0.48      0.47      2631\n",
            "\n"
          ]
        },
        {
          "output_type": "display_data",
          "data": {
            "text/plain": [
              "<Figure size 432x288 with 1 Axes>"
            ],
            "image/png": "[encoded data removed]"
          },
          "metadata": {
            "needs_background": "light"
          }
        }
      ]
    },
    {
      "cell_type": "markdown",
      "source": [
        "# Model with Glove Embeddings\n",
        "Instead of training our own word embeddings, we can use pre-trained Glove word vectors that have been trained on a massive corpus and probably have better context captured."
      ],
      "metadata": {
        "id": "jpBWKcwORMf6"
      }
    },
    {
      "cell_type": "code",
      "source": [
        "!wget http://nlp.stanford.edu/data/glove.6B.zip\n",
        "!unzip glove.6B.zip\n",
        "glove_path = 'glove.6B.300d.txt'"
      ],
      "metadata": {
        "colab": {
          "base_uri": "https://localhost:8080/"
        },
        "id": "A4ZAPws8sl1Q",
        "outputId": "79192934-0cc8-4aae-d4fc-c4dab3a535ed"
      },
      "execution_count": 19,
      "outputs": [
        {
          "output_type": "stream",
          "name": "stdout",
          "text": [
            "--2022-08-04 08:13:58--  http://nlp.stanford.edu/data/glove.6B.zip\n",
            "Resolving nlp.stanford.edu (nlp.stanford.edu)... 171.64.67.140\n",
            "Connecting to nlp.stanford.edu (nlp.stanford.edu)|171.64.67.140|:80... connected.\n",
            "HTTP request sent, awaiting response... 302 Found\n",
            "Location: https://nlp.stanford.edu/data/glove.6B.zip [following]\n",
            "--2022-08-04 08:13:59--  https://nlp.stanford.edu/data/glove.6B.zip\n",
            "Connecting to nlp.stanford.edu (nlp.stanford.edu)|171.64.67.140|:443... connected.\n",
            "HTTP request sent, awaiting response... 301 Moved Permanently\n",
            "Location: https://downloads.cs.stanford.edu/nlp/data/glove.6B.zip [following]\n",
            "--2022-08-04 08:13:59--  https://downloads.cs.stanford.edu/nlp/data/glove.6B.zip\n",
            "Resolving downloads.cs.stanford.edu (downloads.cs.stanford.edu)... 171.64.64.22\n",
            "Connecting to downloads.cs.stanford.edu (downloads.cs.stanford.edu)|171.64.64.22|:443... connected.\n",
            "HTTP request sent, awaiting response... 200 OK\n",
            "Length: 862182613 (822M) [application/zip]\n",
            "Saving to: ‘glove.6B.zip’\n",
            "\n",
            "glove.6B.zip        100%[===================>] 822.24M  5.49MB/s    in 2m 41s  \n",
            "\n",
            "2022-08-04 08:16:41 (5.10 MB/s) - ‘glove.6B.zip’ saved [862182613/862182613]\n",
            "\n",
            "Archive:  glove.6B.zip\n",
            "  inflating: glove.6B.50d.txt        \n",
            "  inflating: glove.6B.100d.txt       \n",
            "  inflating: glove.6B.200d.txt       \n",
            "  inflating: glove.6B.300d.txt       \n"
          ]
        }
      ]
    },
    {
      "cell_type": "code",
      "source": [
        "def load_glove_vectors(glove_file=glove_path):\n",
        "    \"\"\"Load the glove word vectors\"\"\"\n",
        "    word_vectors = {}\n",
        "    with open(glove_file) as f:\n",
        "        for line in f:\n",
        "            split = line.split()\n",
        "            word_vectors[split[0]] = np.array([float(x) for x in split[1:]])\n",
        "    return word_vectors\n",
        "\n",
        "def get_emb_matrix(pretrained, word_counts, emb_size = 300):\n",
        "    \"\"\" Creates embedding matrix from word vectors\"\"\"\n",
        "    vocab_size = len(word_counts) + 2\n",
        "    vocab_to_idx = {}\n",
        "    vocab = [\"\", \"UNK\"]\n",
        "    W = np.zeros((vocab_size, emb_size), dtype=\"float32\")\n",
        "    W[0] = np.zeros(emb_size, dtype='float32') # adding a vector for padding\n",
        "    W[1] = np.random.uniform(-0.25, 0.25, emb_size) # adding a vector for unknown words \n",
        "    vocab_to_idx[\"UNK\"] = 1\n",
        "    i = 2\n",
        "    for word in word_counts:\n",
        "        if word in word_vecs:\n",
        "            W[i] = word_vecs[word]\n",
        "        else:\n",
        "            W[i] = np.random.uniform(-0.25,0.25, emb_size)\n",
        "        vocab_to_idx[word] = i\n",
        "        vocab.append(word)\n",
        "        i += 1   \n",
        "    return torch.FloatTensor(W), np.array(vocab), vocab_to_idx\n",
        "\n",
        "word_vecs = load_glove_vectors()\n",
        "pretrained_weights, vocab, vocab2index = get_emb_matrix(word_vecs, counts)"
      ],
      "metadata": {
        "id": "ObjXmEHCRmkX"
      },
      "execution_count": 20,
      "outputs": []
    },
    {
      "cell_type": "code",
      "source": [
        "glove_model = MbtiLSTMNet(input_size=VOCAB_SIZE, \n",
        "                   embedding_size=EMBEDDING_SIZE, \n",
        "                   hidden_size=HIDDEN_SIZE, output_size=len(LABEL_COLUMNS), \n",
        "                   n_layers=N_LAYERS)\n",
        "glove_model.embedding = nn.Embedding.from_pretrained(pretrained_weights,freeze=True)\n",
        "glove_model.to(device)\n",
        "glove_model = train_loop(glove_model, NUM_EPOCHS)"
      ],
      "metadata": {
        "colab": {
          "base_uri": "https://localhost:8080/"
        },
        "id": "u4OhgB31Bi1X",
        "outputId": "22b0ab92-614b-4938-c0d8-5a2da7419f4d"
      },
      "execution_count": 21,
      "outputs": [
        {
          "output_type": "stream",
          "name": "stdout",
          "text": [
            "Starting ephoch : 1\n",
            "Finish Training model on 2000 users for epoch 1\n",
            "Finish Training model on 4000 users for epoch 1\n",
            "Finish Training model on 6000 users for epoch 1\n",
            "Starting ephoch : 2\n",
            "Finish Training model on 2000 users for epoch 2\n",
            "Finish Training model on 4000 users for epoch 2\n",
            "Finish Training model on 6000 users for epoch 2\n",
            "Starting ephoch : 3\n",
            "Finish Training model on 2000 users for epoch 3\n",
            "Finish Training model on 4000 users for epoch 3\n",
            "Finish Training model on 6000 users for epoch 3\n",
            "Starting ephoch : 4\n",
            "Finish Training model on 2000 users for epoch 4\n",
            "Finish Training model on 4000 users for epoch 4\n",
            "Finish Training model on 6000 users for epoch 4\n",
            "Starting ephoch : 5\n",
            "Finish Training model on 2000 users for epoch 5\n",
            "Finish Training model on 4000 users for epoch 5\n",
            "Finish Training model on 6000 users for epoch 5\n",
            "Starting ephoch : 6\n",
            "Finish Training model on 2000 users for epoch 6\n",
            "Finish Training model on 4000 users for epoch 6\n",
            "Finish Training model on 6000 users for epoch 6\n",
            "Starting ephoch : 7\n",
            "Finish Training model on 2000 users for epoch 7\n",
            "Finish Training model on 4000 users for epoch 7\n",
            "Finish Training model on 6000 users for epoch 7\n",
            "Starting ephoch : 8\n",
            "Finish Training model on 2000 users for epoch 8\n",
            "Finish Training model on 4000 users for epoch 8\n",
            "Finish Training model on 6000 users for epoch 8\n",
            "Starting ephoch : 9\n",
            "Finish Training model on 2000 users for epoch 9\n",
            "Finish Training model on 4000 users for epoch 9\n",
            "Finish Training model on 6000 users for epoch 9\n",
            "Starting ephoch : 10\n",
            "Finish Training model on 2000 users for epoch 10\n",
            "Finish Training model on 4000 users for epoch 10\n",
            "Finish Training model on 6000 users for epoch 10\n"
          ]
        }
      ]
    },
    {
      "cell_type": "code",
      "source": [
        "# save the model\n",
        "GLOVE_MODEL_PATH = '/drive/MyDrive/Colab Notebooks/LSTM_trained_model_glove.pt'\n",
        "torch.save(glove_model, GLOVE_MODEL_PATH)"
      ],
      "metadata": {
        "id": "t-XJxy5j6RNV"
      },
      "execution_count": 23,
      "outputs": []
    },
    {
      "cell_type": "code",
      "source": [
        "glove_model.eval()\n",
        "print(\"Evaluating Validation set..\")\n",
        "evaluate(glove_model, val_sequences)\n",
        "print(\"Evaluating Test set..\")\n",
        "evaluate(glove_model, test_sequences)"
      ],
      "metadata": {
        "colab": {
          "base_uri": "https://localhost:8080/",
          "height": 1000,
          "referenced_widgets": [
            "58d260a78ead4c59b5c51b7b67e16081",
            "034d5e867d204430ae97e6c8c0d4950a",
            "3a20df558b484e518dc8aceaec1934d1",
            "2fec6784b9d34ce7955bdfcc9e4011b9",
            "588bc7d3cdd04ca8be755862375a6930",
            "b8809296777842fab94901af28a52ede",
            "1b614f13e6224e5ab9c28b7c26257d83",
            "393d0d14664046c892ef91c86a2a8f68",
            "7f014a8f1d474fd58b5e4a98da872fcb",
            "4b7c638bf84d4a0f963800c68502e99e",
            "ef41ae9f6c7747b9a1505258e631197e",
            "44efd879b7684e418f73251232152e09",
            "cf35c072c16c464682c72eb20e994a39",
            "fdd7e9478ee64daf9efc2419708ae181",
            "65f0bd4e9ff1488f939d4fb816d9c852",
            "46b92ff839c14f88b0d956fe8eac1e0b",
            "f64fe0ea1eb74f3c983b351c2c3a850e",
            "677b052e9e66422ab2ea6472b56a2dd6",
            "ad9129fa1cb9495d908b05425cff0c24",
            "515fc651a4394a26a60eb498d998c6c7",
            "92e703a7d0574bd39967a30d3bd65e29",
            "fef008be5bc945cda3a9aa8436878c6a"
          ]
        },
        "id": "jpeEFxtsPtt4",
        "outputId": "12371048-d771-490e-d6c0-c948b8b4df46"
      },
      "execution_count": 49,
      "outputs": [
        {
          "output_type": "stream",
          "name": "stdout",
          "text": [
            "Evaluating Validation set..\n"
          ]
        },
        {
          "output_type": "display_data",
          "data": {
            "text/plain": [
              "  0%|          | 0/693 [00:00<?, ?it/s]"
            ],
            "application/vnd.jupyter.widget-view+json": {
              "version_major": 2,
              "version_minor": 0,
              "model_id": "58d260a78ead4c59b5c51b7b67e16081"
            }
          },
          "metadata": {}
        },
        {
          "output_type": "stream",
          "name": "stdout",
          "text": [
            "total mbti hits: 196\n",
            "total accuracy mbti hits: 28.28282828282828\n",
            "              precision    recall  f1-score   support\n",
            "\n",
            "         I-E       0.42      0.32      0.36       158\n",
            "         N-S       0.55      0.23      0.33        90\n",
            "         T-F       0.63      0.67      0.65       377\n",
            "         J-P       0.66      0.80      0.72       416\n",
            "\n",
            "   micro avg       0.62      0.63      0.62      1041\n",
            "   macro avg       0.57      0.50      0.52      1041\n",
            "weighted avg       0.61      0.63      0.61      1041\n",
            " samples avg       0.56      0.55      0.53      1041\n",
            "\n"
          ]
        },
        {
          "output_type": "display_data",
          "data": {
            "text/plain": [
              "<Figure size 432x288 with 1 Axes>"
            ],
            "image/png": "[encoded data removed]"
          },
          "metadata": {
            "needs_background": "light"
          }
        },
        {
          "output_type": "stream",
          "name": "stdout",
          "text": [
            "Evaluating Test set..\n"
          ]
        },
        {
          "output_type": "display_data",
          "data": {
            "text/plain": [
              "  0%|          | 0/1735 [00:00<?, ?it/s]"
            ],
            "application/vnd.jupyter.widget-view+json": {
              "version_major": 2,
              "version_minor": 0,
              "model_id": "44efd879b7684e418f73251232152e09"
            }
          },
          "metadata": {}
        },
        {
          "output_type": "stream",
          "name": "stdout",
          "text": [
            "total mbti hits: 389\n",
            "total accuracy mbti hits: 22.420749279538903\n",
            "              precision    recall  f1-score   support\n",
            "\n",
            "         I-E       0.32      0.20      0.24       382\n",
            "         N-S       0.37      0.13      0.20       246\n",
            "         T-F       0.59      0.67      0.63       937\n",
            "         J-P       0.64      0.75      0.69      1066\n",
            "\n",
            "   micro avg       0.58      0.58      0.58      2631\n",
            "   macro avg       0.48      0.44      0.44      2631\n",
            "weighted avg       0.55      0.58      0.56      2631\n",
            " samples avg       0.53      0.53      0.50      2631\n",
            "\n"
          ]
        },
        {
          "output_type": "display_data",
          "data": {
            "text/plain": [
              "<Figure size 432x288 with 1 Axes>"
            ],
            "image/png": "[encoded data removed]"
          },
          "metadata": {
            "needs_background": "light"
          }
        }
      ]
    }
  ]
}